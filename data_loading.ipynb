{
 "cells": [
  {
   "cell_type": "code",
   "execution_count": 29,
   "id": "83c1f829",
   "metadata": {},
   "outputs": [],
   "source": [
    "import os\n",
    "\n",
    "from torch.utils.data import Dataset, DataLoader\n",
    "import torch\n",
    "\n",
    "import matplotlib.pyplot as plt\n",
    "\n",
    "from pathlib import Path\n",
    "\n",
    "import numpy as np\n",
    "\n",
    "from scipy.ndimage import binary_fill_holes"
   ]
  },
  {
   "cell_type": "code",
   "execution_count": 30,
   "id": "95a73b9f",
   "metadata": {},
   "outputs": [],
   "source": [
    "class RadioProtectDataset(Dataset):\n",
    "    def __init__(self, slices_dir, objs_dir):\n",
    "        super().__init__()\n",
    "        self.slices_dir = slices_dir\n",
    "        self.objs_dir = objs_dir\n",
    "\n",
    "        self.avail_slices = []\n",
    "        path = Path(objs_dir)\n",
    "\n",
    "        for item in path.iterdir():\n",
    "            if item.is_file() and item.suffix == \".npy\":\n",
    "                self.avail_slices.append(item.stem)\n",
    "        print(f\"INFO: Loaded {len(self.avail_slices)} examples.\")\n",
    "\n",
    "    def __len__(self):\n",
    "        return len(self.avail_slices)\n",
    "    \n",
    "    def __getitem__(self, index):\n",
    "        # get slice\n",
    "        id = self.avail_slices[index]\n",
    "        slice_path = os.path.join(self.slices_dir,f\"slice{id}.npy\")\n",
    "        slice_scan = np.load(slice_path)\n",
    "        obj_path = os.path.join(self.objs_dir,f\"{id}.npy\")\n",
    "        obj_patch = binary_fill_holes(np.load(obj_path))\n",
    "\n",
    "        # get object\n",
    "        sample = {'slice': slice_scan, 'object': obj_patch.astype(int)}\n",
    "        return sample"
   ]
  },
  {
   "cell_type": "code",
   "execution_count": 36,
   "id": "7e32ee17",
   "metadata": {},
   "outputs": [],
   "source": [
    "#spinal cord path\n",
    "spin_cord_path = '/Users/oliverklimt/projects/rakathon2025/kyrykyrybii/out/patient1/SpinalCord'\n",
    "slices_path = '/Users/oliverklimt/projects/rakathon2025/kyrykyrybii/out/patient1/slices'"
   ]
  },
  {
   "cell_type": "code",
   "execution_count": 32,
   "id": "7a6a0676",
   "metadata": {},
   "outputs": [
    {
     "name": "stdout",
     "output_type": "stream",
     "text": [
      "INFO: Loaded 132 examples.\n"
     ]
    }
   ],
   "source": [
    "dataset = RadioProtectDataset(slices_path,spin_cord_path)"
   ]
  },
  {
   "cell_type": "code",
   "execution_count": 33,
   "id": "aa30e19d",
   "metadata": {},
   "outputs": [],
   "source": [
    "example = next(iter(dataset))"
   ]
  },
  {
   "cell_type": "code",
   "execution_count": 34,
   "id": "bf34ff59",
   "metadata": {},
   "outputs": [
    {
     "data": {
      "text/plain": [
       "{'slice': array([[0, 0, 0, ..., 0, 0, 0],\n",
       "        [0, 0, 0, ..., 0, 0, 0],\n",
       "        [0, 0, 0, ..., 0, 0, 0],\n",
       "        ...,\n",
       "        [0, 0, 0, ..., 0, 0, 0],\n",
       "        [0, 0, 0, ..., 0, 0, 0],\n",
       "        [0, 0, 0, ..., 0, 0, 0]], shape=(512, 512), dtype=int32),\n",
       " 'object': array([[0, 0, 0, ..., 0, 0, 0],\n",
       "        [0, 0, 0, ..., 0, 0, 0],\n",
       "        [0, 0, 0, ..., 0, 0, 0],\n",
       "        ...,\n",
       "        [0, 0, 0, ..., 0, 0, 0],\n",
       "        [0, 0, 0, ..., 0, 0, 0],\n",
       "        [0, 0, 0, ..., 0, 0, 0]], shape=(512, 512))}"
      ]
     },
     "execution_count": 34,
     "metadata": {},
     "output_type": "execute_result"
    }
   ],
   "source": [
    "example"
   ]
  },
  {
   "cell_type": "code",
   "execution_count": 35,
   "id": "a9f97f40",
   "metadata": {},
   "outputs": [
    {
     "data": {
      "text/plain": [
       "<matplotlib.image.AxesImage at 0x119297410>"
      ]
     },
     "execution_count": 35,
     "metadata": {},
     "output_type": "execute_result"
    },
    {
     "data": {
      "image/png": "[encoded data removed]",
      "text/plain": [
       "<Figure size 640x480 with 1 Axes>"
      ]
     },
     "metadata": {},
     "output_type": "display_data"
    }
   ],
   "source": [
    "# plt.imshow(example['slice'])\n",
    "plt.imshow(example['object'])"
   ]
  },
  {
   "cell_type": "code",
   "execution_count": null,
   "id": "a2d1ad0e",
   "metadata": {},
   "outputs": [],
   "source": []
  }
 ],
 "metadata": {
  "kernelspec": {
   "display_name": "venv",
   "language": "python",
   "name": "python3"
  },
  "language_info": {
   "codemirror_mode": {
    "name": "ipython",
    "version": 3
   },
   "file_extension": ".py",
   "mimetype": "text/x-python",
   "name": "python",
   "nbconvert_exporter": "python",
   "pygments_lexer": "ipython3",
   "version": "3.12.3"
  }
 },
 "nbformat": 4,
 "nbformat_minor": 5
}
